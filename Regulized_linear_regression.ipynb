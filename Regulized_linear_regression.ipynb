{
  "nbformat": 4,
  "nbformat_minor": 0,
  "metadata": {
    "colab": {
      "name": "Regulized linear regression.ipynb",
      "provenance": [],
      "authorship_tag": "ABX9TyNtmEq9C4L4Yij7n7zmQY1Z",
      "include_colab_link": true
    },
    "kernelspec": {
      "name": "python3",
      "display_name": "Python 3"
    },
    "language_info": {
      "name": "python"
    }
  },
  "cells": [
    {
      "cell_type": "markdown",
      "metadata": {
        "id": "view-in-github",
        "colab_type": "text"
      },
      "source": [
        "<a href=\"https://colab.research.google.com/github/saurabhdaund76/Hotel-Booking-Analysis/blob/main/Regulized_linear_regression.ipynb\" target=\"_parent\"><img src=\"https://colab.research.google.com/assets/colab-badge.svg\" alt=\"Open In Colab\"/></a>"
      ]
    },
    {
      "cell_type": "code",
      "metadata": {
        "id": "zRcLmkFtV43p"
      },
      "source": [
        "import pandas as pd\n",
        "import numpy as np\n",
        "import matplotlib.pyplot as plt\n",
        "from sklearn.linear_model import LinearRegression\n",
        "from sklearn.linear_model import Ridge,RidgeCV\n",
        "from sklearn.linear_model import Lasso , LassoCV\n",
        "from sklearn.datasets import load_boston\n",
        "from sklearn.model_selection import train_test_split\n",
        "from sklearn.preprocessing import StandardScaler"
      ],
      "execution_count": 34,
      "outputs": []
    },
    {
      "cell_type": "code",
      "metadata": {
        "colab": {
          "base_uri": "https://localhost:8080/"
        },
        "id": "lsgatKnbW3B7",
        "outputId": "0b58638e-7549-41c3-c063-bb6066d362ff"
      },
      "source": [
        "boston = load_boston()\n",
        "boston.data.shape"
      ],
      "execution_count": 35,
      "outputs": [
        {
          "output_type": "execute_result",
          "data": {
            "text/plain": [
              "(506, 13)"
            ]
          },
          "metadata": {
            "tags": []
          },
          "execution_count": 35
        }
      ]
    },
    {
      "cell_type": "markdown",
      "metadata": {
        "id": "QzJmX7JPZ6H2"
      },
      "source": [
        "* CRIM - per capita crime rate by town\n",
        "* ZN - proportion of residential land zoned for lots over 25,000 sq.ft.\n",
        "* INDUS - proportion of non-retail business acres per town.\n",
        "* CHAS - Charles River dummy variable (1 if tract bounds river; 0 otherwise)\n",
        "* NOX - nitric oxides concentration (parts per 10 million)\n",
        "* RM - average number of rooms per dwelling\n",
        "* AGE - proportion of owner-occupied units built prior to 1940"
      ]
    },
    {
      "cell_type": "code",
      "metadata": {
        "id": "jNSA4I2hXNAx"
      },
      "source": [
        "# here we will be taking only 7 features as we have total 13 features \n",
        "\n",
        "feature_number = 7\n",
        "\n",
        "X = boston.data[:,:feature_number] # x has total 7 features\n",
        "y = boston.target\n",
        "features = boston.feature_names[:feature_number] # Here features are the columns names of the 7 features we selected\n",
        "\n",
        "# lets make a dataframe outof these 7 features \n",
        "df = pd.DataFrame(data= X, columns=features)"
      ],
      "execution_count": 36,
      "outputs": []
    },
    {
      "cell_type": "code",
      "metadata": {
        "colab": {
          "base_uri": "https://localhost:8080/",
          "height": 203
        },
        "id": "rmh-6F01a0Bm",
        "outputId": "8f60ac1a-241c-400a-c46e-19eb31adc03b"
      },
      "source": [
        "df.head()"
      ],
      "execution_count": 37,
      "outputs": [
        {
          "output_type": "execute_result",
          "data": {
            "text/html": [
              "<div>\n",
              "<style scoped>\n",
              "    .dataframe tbody tr th:only-of-type {\n",
              "        vertical-align: middle;\n",
              "    }\n",
              "\n",
              "    .dataframe tbody tr th {\n",
              "        vertical-align: top;\n",
              "    }\n",
              "\n",
              "    .dataframe thead th {\n",
              "        text-align: right;\n",
              "    }\n",
              "</style>\n",
              "<table border=\"1\" class=\"dataframe\">\n",
              "  <thead>\n",
              "    <tr style=\"text-align: right;\">\n",
              "      <th></th>\n",
              "      <th>CRIM</th>\n",
              "      <th>ZN</th>\n",
              "      <th>INDUS</th>\n",
              "      <th>CHAS</th>\n",
              "      <th>NOX</th>\n",
              "      <th>RM</th>\n",
              "      <th>AGE</th>\n",
              "    </tr>\n",
              "  </thead>\n",
              "  <tbody>\n",
              "    <tr>\n",
              "      <th>0</th>\n",
              "      <td>0.00632</td>\n",
              "      <td>18.0</td>\n",
              "      <td>2.31</td>\n",
              "      <td>0.0</td>\n",
              "      <td>0.538</td>\n",
              "      <td>6.575</td>\n",
              "      <td>65.2</td>\n",
              "    </tr>\n",
              "    <tr>\n",
              "      <th>1</th>\n",
              "      <td>0.02731</td>\n",
              "      <td>0.0</td>\n",
              "      <td>7.07</td>\n",
              "      <td>0.0</td>\n",
              "      <td>0.469</td>\n",
              "      <td>6.421</td>\n",
              "      <td>78.9</td>\n",
              "    </tr>\n",
              "    <tr>\n",
              "      <th>2</th>\n",
              "      <td>0.02729</td>\n",
              "      <td>0.0</td>\n",
              "      <td>7.07</td>\n",
              "      <td>0.0</td>\n",
              "      <td>0.469</td>\n",
              "      <td>7.185</td>\n",
              "      <td>61.1</td>\n",
              "    </tr>\n",
              "    <tr>\n",
              "      <th>3</th>\n",
              "      <td>0.03237</td>\n",
              "      <td>0.0</td>\n",
              "      <td>2.18</td>\n",
              "      <td>0.0</td>\n",
              "      <td>0.458</td>\n",
              "      <td>6.998</td>\n",
              "      <td>45.8</td>\n",
              "    </tr>\n",
              "    <tr>\n",
              "      <th>4</th>\n",
              "      <td>0.06905</td>\n",
              "      <td>0.0</td>\n",
              "      <td>2.18</td>\n",
              "      <td>0.0</td>\n",
              "      <td>0.458</td>\n",
              "      <td>7.147</td>\n",
              "      <td>54.2</td>\n",
              "    </tr>\n",
              "  </tbody>\n",
              "</table>\n",
              "</div>"
            ],
            "text/plain": [
              "      CRIM    ZN  INDUS  CHAS    NOX     RM   AGE\n",
              "0  0.00632  18.0   2.31   0.0  0.538  6.575  65.2\n",
              "1  0.02731   0.0   7.07   0.0  0.469  6.421  78.9\n",
              "2  0.02729   0.0   7.07   0.0  0.469  7.185  61.1\n",
              "3  0.03237   0.0   2.18   0.0  0.458  6.998  45.8\n",
              "4  0.06905   0.0   2.18   0.0  0.458  7.147  54.2"
            ]
          },
          "metadata": {
            "tags": []
          },
          "execution_count": 37
        }
      ]
    },
    {
      "cell_type": "code",
      "metadata": {
        "id": "9b_f3m9la2JM"
      },
      "source": [
        "# split the data into train test and standerdize them \n",
        "\n",
        "X_train,X_test,y_train,y_test = train_test_split(X,y, test_size=0.2 , random_state =0)\n",
        "\n",
        "std_transformation = StandardScaler()  # While linear rgression we should bring down all the variables to same scale\n",
        "X_train_transformed = std_transformation.fit_transform(X_train)  # variable means transformed X_train ie this is scaled dataset \n",
        "X_test_transformed = std_transformation.transform(X_test) # transformed X_test\n"
      ],
      "execution_count": 38,
      "outputs": []
    },
    {
      "cell_type": "code",
      "metadata": {
        "colab": {
          "base_uri": "https://localhost:8080/"
        },
        "id": "VCFKRN9QcXgb",
        "outputId": "cc8da4c4-8d20-477f-edcd-2f16d6c25dc4"
      },
      "source": [
        "# to get the coefficients of the features of our model we will loop through diifernet penalty score (alpha) or lambda \n",
        "\n",
        "alpha_values = 10** np.arange(1,5)    # random alpha values \n",
        "\n",
        "ridge_coeiff = []\n",
        "\n",
        "for alpha in alpha_values:\n",
        "  ridge = Ridge(alpha= alpha , fit_intercept= True)  # here variable ridge stored ridge linear regression and alpha values into it\n",
        "  ridge.fit(X_train_transformed, y_train)  # here we fitted the train_values to train a model \n",
        "  ridge_coeiff.append(ridge.coef_)\n",
        "\n",
        "print(f\"different alpha values are : {alpha_values}\")"
      ],
      "execution_count": 39,
      "outputs": [
        {
          "output_type": "stream",
          "text": [
            "different alpha values are : [   10   100  1000 10000]\n"
          ],
          "name": "stdout"
        }
      ]
    },
    {
      "cell_type": "code",
      "metadata": {
        "colab": {
          "base_uri": "https://localhost:8080/"
        },
        "id": "nHOjesdth0dX",
        "outputId": "4c4d10a7-edd0-48f1-81b4-664ea3e6d38a"
      },
      "source": [
        "ridge_coeiff"
      ],
      "execution_count": 40,
      "outputs": [
        {
          "output_type": "execute_result",
          "data": {
            "text/plain": [
              "[array([-1.77430991,  0.51775087, -1.17625349,  1.04942202, -0.33269118,\n",
              "         4.99468457, -0.63751086]),\n",
              " array([-1.51996092,  0.65118096, -1.17825278,  0.96039229, -0.55952709,\n",
              "         4.06823922, -0.58542667]),\n",
              " array([-0.73991884,  0.5829575 , -0.80784264,  0.43245969, -0.61471607,\n",
              "         1.56987671, -0.53508059]),\n",
              " array([-0.13736398,  0.13291708, -0.17186011,  0.0630065 , -0.1479362 ,\n",
              "         0.24371027, -0.13238859])]"
            ]
          },
          "metadata": {
            "tags": []
          },
          "execution_count": 40
        }
      ]
    },
    {
      "cell_type": "markdown",
      "metadata": {
        "id": "jlozZ3bph5c2"
      },
      "source": [
        "* What we can obsereve from the above ridge coieff, we clearly see that as we increase the value of alpha our coefs are decresing\n",
        "* for ex for the alpha value of 10 our coeffs were [array([-1.77430991,  0.51775087, -1.17625349,  1.04942202, -0.33269118, 4.99468457, -0.63751086])\n",
        "* But for the 100000 alpha value our coef are array([-0.13736398,  0.13291708, -0.17186011,  0.0630065 , -0.1479362 ,0.24371027, -0.13238859])\n",
        "* This all is happing because of gradient desent algorithm that works on every value of beta or coeff of a feature.\n",
        "\n"
      ]
    },
    {
      "cell_type": "markdown",
      "metadata": {
        "id": "oNovt970jJNR"
      },
      "source": [
        "**So for the higher values of alpha the coef values are decreasing this is what ridge linear regression defines**"
      ]
    },
    {
      "cell_type": "code",
      "metadata": {
        "id": "JZkiWhfYGfCq"
      },
      "source": [
        "def coef_versus_alpha_plot(coef, alpha_values , features):\n",
        "    \"\"\"\n",
        "    Pass in the estimated weight, the alpha value and the names\n",
        "    for the features and plot the model's estimated coefficient weight \n",
        "    for different alpha values\n",
        "    \"\"\"\n",
        "    fig = plt.figure(figsize = (8, 6))\n",
        "    \n",
        "    # ensure that the weight is an array\n",
        "    coef = np.array(coef)\n",
        "    for col in range(coef.shape[1]):\n",
        "        plt.plot(alpha_values, coef[:, col], label = features[col])\n",
        "\n",
        "    plt.axhline(0, color = 'black', linestyle = '--', linewidth = 3)\n",
        "\n",
        "    # manually specify the coordinate of the legend\n",
        "    plt.legend(bbox_to_anchor = (1.3, 0.9))\n",
        "    plt.title('Coeff as Alpha Grows')\n",
        "    plt.ylabel('Coeff')\n",
        "    plt.xlabel('alpha')\n",
        "    return fig"
      ],
      "execution_count": 41,
      "outputs": []
    },
    {
      "cell_type": "code",
      "metadata": {
        "colab": {
          "base_uri": "https://localhost:8080/",
          "height": 411
        },
        "id": "VXPMk-vOGe-r",
        "outputId": "f28c5431-183c-40f1-e341-08c162a7fee7"
      },
      "source": [
        "# change default figure and font size\n",
        "plt.rcParams['figure.figsize'] = 8, 6 \n",
        "plt.rcParams['font.size'] = 12\n",
        "\n",
        "\n",
        "ridge_fig = coef_versus_alpha_plot(ridge_coeiff, alpha_values, features)"
      ],
      "execution_count": 42,
      "outputs": [
        {
          "output_type": "display_data",
          "data": {
            "image/png": "[encoded data removed]",
            "text/plain": [
              "<Figure size 576x432 with 1 Axes>"
            ]
          },
          "metadata": {
            "tags": [],
            "needs_background": "light"
          }
        }
      ]
    },
    {
      "cell_type": "markdown",
      "metadata": {
        "id": "Qv8WES_sH55u"
      },
      "source": [
        "*  As we have 4 values of alpha, so at alpha =0 we can see that it is unregulized model, as we can see RM has high positive coef which states that higher the RM value higher will be the price of the house, simpilarly lower the crime rate ie blue line higher the price\n",
        "\n",
        "* So for alpha at 100 more values are shrink similarly for 1000\n",
        "\n",
        "* So as the alpha is 1000 we can  see that value for the RM shrinks from 4.5 to nearly 1.4 so there is huge drop in coeff value and same gose with all the regression coeffs\n",
        "\n",
        "* ie magnitudes of the coeffi are decreasing as alpha is incresing\n",
        "\n",
        "* So in case of alpha = 10000 all the coeff are almost close to zero but not perfectly zero"
      ]
    },
    {
      "cell_type": "code",
      "metadata": {
        "colab": {
          "base_uri": "https://localhost:8080/",
          "height": 411
        },
        "id": "CCNY_CajGe9g",
        "outputId": "28a639ae-dbc5-4fa2-f564-c85bc5b04555"
      },
      "source": [
        "# Now lets see how it goes with lasso regression \n",
        "\n",
        "alphas_for_lasso = [0.01, 0.1 , 1, 5,8]\n",
        "\n",
        "lasso_coeff = []\n",
        "\n",
        "for alpha in alphas_for_lasso:\n",
        "  lasso= Lasso(alpha=alpha, fit_intercept= True)\n",
        "  lasso.fit(X_train_transformed , y_train)\n",
        "  lasso_coeff.append(lasso.coef_)\n",
        "\n",
        "lasso_fig = coef_versus_alpha_plot(lasso_coeff , alphas_for_lasso , features)"
      ],
      "execution_count": 43,
      "outputs": [
        {
          "output_type": "display_data",
          "data": {
            "image/png": "[encoded data removed]",
            "text/plain": [
              "<Figure size 576x432 with 1 Axes>"
            ]
          },
          "metadata": {
            "tags": [],
            "needs_background": "light"
          }
        }
      ]
    },
    {
      "cell_type": "markdown",
      "metadata": {
        "id": "BJ1SzvbiOAqT"
      },
      "source": [
        "* So we can see first at alpha 0 we can see the coeff values ie unregulized condition\n",
        "\n",
        "* As we increase the alpha we can see at alpha=5 almost all the coeff are 0 ie exaxtly zero\n",
        "\n",
        "* so we can say that all the unecesarry features are zero and now left with only RM which also gets zero at alpha = 8 \n",
        "\n",
        "* so this algorithm says that the features will be zero with no importance and only important features will be remained\n",
        "\n",
        "* After alpha 8 all the coeff are gone to zero and we are remained with only beta0 ie intercept as we written above we have given fit_intercept as true which states we are considering beta\n",
        "\n",
        "* So here very highly regularized model is he simplest model \n",
        "\n",
        "* Lasso regression is preferred if we want a sparse model, meaning that we believe many features are irrelevant to the output."
      ]
    }
  ]
}